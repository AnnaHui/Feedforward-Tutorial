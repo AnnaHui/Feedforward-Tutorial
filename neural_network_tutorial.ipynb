{
 "cells": [
  {
   "cell_type": "markdown",
   "metadata": {},
   "source": [
    "# Neural Network Tutorial"
   ]
  },
  {
   "cell_type": "code",
   "execution_count": 64,
   "metadata": {},
   "outputs": [],
   "source": [
    "import pandas as pd\n",
    "from keras import models, layers, optimizers, regularizers\n",
    "import numpy as np\n",
    "import random\n",
    "from sklearn import model_selection"
   ]
  },
  {
   "cell_type": "markdown",
   "metadata": {},
   "source": [
    "## Prepare the Data\n",
    "\n",
    "There is nothing new here so we will quickly run through this."
   ]
  },
  {
   "cell_type": "code",
   "execution_count": 65,
   "metadata": {},
   "outputs": [],
   "source": [
    "file_name = 'SAheart.data'\n",
    "data = pd.read_csv(file_name, sep=',', index_col=0)"
   ]
  },
  {
   "cell_type": "code",
   "execution_count": 66,
   "metadata": {},
   "outputs": [
    {
     "data": {
      "text/html": [
       "<div>\n",
       "<style scoped>\n",
       "    .dataframe tbody tr th:only-of-type {\n",
       "        vertical-align: middle;\n",
       "    }\n",
       "\n",
       "    .dataframe tbody tr th {\n",
       "        vertical-align: top;\n",
       "    }\n",
       "\n",
       "    .dataframe thead th {\n",
       "        text-align: right;\n",
       "    }\n",
       "</style>\n",
       "<table border=\"1\" class=\"dataframe\">\n",
       "  <thead>\n",
       "    <tr style=\"text-align: right;\">\n",
       "      <th></th>\n",
       "      <th>sbp</th>\n",
       "      <th>tobacco</th>\n",
       "      <th>ldl</th>\n",
       "      <th>adiposity</th>\n",
       "      <th>typea</th>\n",
       "      <th>obesity</th>\n",
       "      <th>alcohol</th>\n",
       "      <th>age</th>\n",
       "      <th>chd</th>\n",
       "      <th>famhist_true</th>\n",
       "      <th>famhist_false</th>\n",
       "    </tr>\n",
       "    <tr>\n",
       "      <th>row.names</th>\n",
       "      <th></th>\n",
       "      <th></th>\n",
       "      <th></th>\n",
       "      <th></th>\n",
       "      <th></th>\n",
       "      <th></th>\n",
       "      <th></th>\n",
       "      <th></th>\n",
       "      <th></th>\n",
       "      <th></th>\n",
       "      <th></th>\n",
       "    </tr>\n",
       "  </thead>\n",
       "  <tbody>\n",
       "    <tr>\n",
       "      <th>1</th>\n",
       "      <td>160</td>\n",
       "      <td>12.00</td>\n",
       "      <td>5.73</td>\n",
       "      <td>23.11</td>\n",
       "      <td>49</td>\n",
       "      <td>25.30</td>\n",
       "      <td>97.20</td>\n",
       "      <td>52</td>\n",
       "      <td>1</td>\n",
       "      <td>True</td>\n",
       "      <td>False</td>\n",
       "    </tr>\n",
       "    <tr>\n",
       "      <th>2</th>\n",
       "      <td>144</td>\n",
       "      <td>0.01</td>\n",
       "      <td>4.41</td>\n",
       "      <td>28.61</td>\n",
       "      <td>55</td>\n",
       "      <td>28.87</td>\n",
       "      <td>2.06</td>\n",
       "      <td>63</td>\n",
       "      <td>1</td>\n",
       "      <td>False</td>\n",
       "      <td>True</td>\n",
       "    </tr>\n",
       "    <tr>\n",
       "      <th>3</th>\n",
       "      <td>118</td>\n",
       "      <td>0.08</td>\n",
       "      <td>3.48</td>\n",
       "      <td>32.28</td>\n",
       "      <td>52</td>\n",
       "      <td>29.14</td>\n",
       "      <td>3.81</td>\n",
       "      <td>46</td>\n",
       "      <td>0</td>\n",
       "      <td>True</td>\n",
       "      <td>False</td>\n",
       "    </tr>\n",
       "    <tr>\n",
       "      <th>4</th>\n",
       "      <td>170</td>\n",
       "      <td>7.50</td>\n",
       "      <td>6.41</td>\n",
       "      <td>38.03</td>\n",
       "      <td>51</td>\n",
       "      <td>31.99</td>\n",
       "      <td>24.26</td>\n",
       "      <td>58</td>\n",
       "      <td>1</td>\n",
       "      <td>True</td>\n",
       "      <td>False</td>\n",
       "    </tr>\n",
       "    <tr>\n",
       "      <th>5</th>\n",
       "      <td>134</td>\n",
       "      <td>13.60</td>\n",
       "      <td>3.50</td>\n",
       "      <td>27.78</td>\n",
       "      <td>60</td>\n",
       "      <td>25.99</td>\n",
       "      <td>57.34</td>\n",
       "      <td>49</td>\n",
       "      <td>1</td>\n",
       "      <td>True</td>\n",
       "      <td>False</td>\n",
       "    </tr>\n",
       "  </tbody>\n",
       "</table>\n",
       "</div>"
      ],
      "text/plain": [
       "           sbp  tobacco   ldl  adiposity  typea  obesity  alcohol  age  chd  \\\n",
       "row.names                                                                     \n",
       "1          160    12.00  5.73      23.11     49    25.30    97.20   52    1   \n",
       "2          144     0.01  4.41      28.61     55    28.87     2.06   63    1   \n",
       "3          118     0.08  3.48      32.28     52    29.14     3.81   46    0   \n",
       "4          170     7.50  6.41      38.03     51    31.99    24.26   58    1   \n",
       "5          134    13.60  3.50      27.78     60    25.99    57.34   49    1   \n",
       "\n",
       "           famhist_true  famhist_false  \n",
       "row.names                               \n",
       "1                  True          False  \n",
       "2                 False           True  \n",
       "3                  True          False  \n",
       "4                  True          False  \n",
       "5                  True          False  "
      ]
     },
     "execution_count": 66,
     "metadata": {},
     "output_type": "execute_result"
    }
   ],
   "source": [
    "data['famhist_true'] = data['famhist'] == 'Present'\n",
    "data['famhist_false'] = data['famhist'] == 'Absent'\n",
    "data = data.drop(['famhist'], axis=1)\n",
    "data.head()"
   ]
  },
  {
   "cell_type": "code",
   "execution_count": 67,
   "metadata": {},
   "outputs": [],
   "source": [
    "def get_splits(data):\n",
    "    np.random.seed(42)\n",
    "    random.seed(42)\n",
    "    train, test = model_selection.train_test_split(data)\n",
    "    x_train = train.loc[:, train.columns != 'chd']\n",
    "    y_train = train['chd']\n",
    "    x_test = test.loc[:, test.columns != 'chd']\n",
    "    y_test = test['chd']\n",
    "    return x_train, y_train, x_test, y_test"
   ]
  },
  {
   "cell_type": "code",
   "execution_count": 68,
   "metadata": {},
   "outputs": [],
   "source": [
    "x_train, y_train, x_test, y_test = get_splits(data)"
   ]
  },
  {
   "cell_type": "markdown",
   "metadata": {},
   "source": [
    "# Create a Baseline Model"
   ]
  },
  {
   "cell_type": "code",
   "execution_count": 158,
   "metadata": {},
   "outputs": [],
   "source": [
    "np.random.seed(42)\n",
    "model = models.Sequential()\n",
    "#model.add(layers.Dense(input_dim=10,\n",
    "#                       units=10, \n",
    "#                       activation='sigmoid',\n",
    "#                       kernel_regularizer=regularizers.l2(0.1)))\n",
    "model.add(layers.Dense(input_dim=10,\n",
    "                       units=1,\n",
    "                       activation='sigmoid',                         \n",
    "                       #kernel_regularizer=regularizers.l2(0.0001)\n",
    "                      ))"
   ]
  },
  {
   "cell_type": "code",
   "execution_count": 159,
   "metadata": {},
   "outputs": [],
   "source": [
    "model.compile(loss='binary_crossentropy',\n",
    "              optimizer=optimizers.SGD(lr=1),\n",
    "              metrics=['accuracy'])"
   ]
  },
  {
   "cell_type": "code",
   "execution_count": 161,
   "metadata": {},
   "outputs": [
    {
     "name": "stdout",
     "output_type": "stream",
     "text": [
      "Epoch 1/5\n",
      "346/346 [==============================] - 0s 1ms/step - loss: 6.8370 - acc: 0.3439\n",
      "Epoch 2/5\n",
      "346/346 [==============================] - 0s 940us/step - loss: 6.8370 - acc: 0.3439\n",
      "Epoch 3/5\n",
      "346/346 [==============================] - 0s 934us/step - loss: 6.8370 - acc: 0.3439\n",
      "Epoch 4/5\n",
      "346/346 [==============================] - 0s 1ms/step - loss: 6.8370 - acc: 0.3439\n",
      "Epoch 5/5\n",
      "346/346 [==============================] - 0s 976us/step - loss: 6.8370 - acc: 0.3439\n",
      "346/346 [==============================] - 0s 21us/step\n",
      "116/116 [==============================] - 0s 37us/step\n",
      "Training accuracy: 0.3439306363549536\n",
      "Testing accuracy: 0.3534482779174015\n"
     ]
    }
   ],
   "source": [
    "class_weight = {\n",
    "    0: 302 / 462,\n",
    "    1: 160 / 462\n",
    "}\n",
    "model.fit(x_train, y_train, epochs=5, batch_size=1, class_weight=class_weight)\n",
    "train_acc = model.evaluate(x_train, y_train, batch_size=32)[1]\n",
    "test_acc = model.evaluate(x_test, y_test, batch_size=32)[1]\n",
    "print('Training accuracy: %s' % train_acc)\n",
    "print('Testing accuracy: %s' % test_acc)"
   ]
  },
  {
   "cell_type": "code",
   "execution_count": 107,
   "metadata": {},
   "outputs": [
    {
     "data": {
      "text/plain": [
       "462"
      ]
     },
     "execution_count": 107,
     "metadata": {},
     "output_type": "execute_result"
    }
   ],
   "source": [
    "len(data)"
   ]
  },
  {
   "cell_type": "code",
   "execution_count": 110,
   "metadata": {},
   "outputs": [
    {
     "data": {
      "text/plain": [
       "160"
      ]
     },
     "execution_count": 110,
     "metadata": {},
     "output_type": "execute_result"
    }
   ],
   "source": [
    "len(data[data['chd'] == True])"
   ]
  },
  {
   "cell_type": "code",
   "execution_count": 111,
   "metadata": {},
   "outputs": [
    {
     "data": {
      "text/plain": [
       "302"
      ]
     },
     "execution_count": 111,
     "metadata": {},
     "output_type": "execute_result"
    }
   ],
   "source": [
    "462 - 160"
   ]
  },
  {
   "cell_type": "code",
   "execution_count": 130,
   "metadata": {},
   "outputs": [
    {
     "data": {
      "text/plain": [
       "0.6536796536796536"
      ]
     },
     "execution_count": 130,
     "metadata": {},
     "output_type": "execute_result"
    }
   ],
   "source": [
    "302/462"
   ]
  },
  {
   "cell_type": "code",
   "execution_count": 134,
   "metadata": {},
   "outputs": [
    {
     "data": {
      "text/plain": [
       "array([[0.47871232],\n",
       "       [0.47871232],\n",
       "       [0.47948888],\n",
       "       [0.47871232],\n",
       "       [0.47871226],\n",
       "       [0.47875473],\n",
       "       [0.47871232],\n",
       "       [0.4787124 ],\n",
       "       [0.47871232],\n",
       "       [0.47871232],\n",
       "       [0.47871232],\n",
       "       [0.45593017],\n",
       "       [0.47871232],\n",
       "       [0.47809362],\n",
       "       [0.47871232],\n",
       "       [0.47288302],\n",
       "       [0.47871232],\n",
       "       [0.47872707],\n",
       "       [0.472862  ],\n",
       "       [0.35813227],\n",
       "       [0.47871232],\n",
       "       [0.47871232],\n",
       "       [0.47871232],\n",
       "       [0.4782905 ],\n",
       "       [0.47869495],\n",
       "       [0.47870964],\n",
       "       [0.47871232],\n",
       "       [0.47871232],\n",
       "       [0.47868913],\n",
       "       [0.47871253],\n",
       "       [0.478332  ],\n",
       "       [0.47871232],\n",
       "       [0.47871232],\n",
       "       [0.472724  ],\n",
       "       [0.47871232],\n",
       "       [0.47278473],\n",
       "       [0.35598496],\n",
       "       [0.47871232],\n",
       "       [0.356725  ],\n",
       "       [0.47776252],\n",
       "       [0.4787124 ],\n",
       "       [0.46966943],\n",
       "       [0.47870806],\n",
       "       [0.47871232],\n",
       "       [0.47871232],\n",
       "       [0.47720683],\n",
       "       [0.47871232],\n",
       "       [0.47871232],\n",
       "       [0.47871232],\n",
       "       [0.47871232],\n",
       "       [0.47871232],\n",
       "       [0.47871232],\n",
       "       [0.47871232],\n",
       "       [0.47871232],\n",
       "       [0.4369581 ],\n",
       "       [0.4786615 ],\n",
       "       [0.47871232],\n",
       "       [0.47871232],\n",
       "       [0.47871232],\n",
       "       [0.47871232],\n",
       "       [0.47871238],\n",
       "       [0.47871232],\n",
       "       [0.47871232],\n",
       "       [0.47871232],\n",
       "       [0.47867608],\n",
       "       [0.47469667],\n",
       "       [0.47871232],\n",
       "       [0.4787124 ],\n",
       "       [0.47871232],\n",
       "       [0.47871232],\n",
       "       [0.47871232],\n",
       "       [0.47871232],\n",
       "       [0.47871232],\n",
       "       [0.47871232],\n",
       "       [0.47871232],\n",
       "       [0.43135867],\n",
       "       [0.47871232],\n",
       "       [0.47871232],\n",
       "       [0.4300123 ],\n",
       "       [0.47869927],\n",
       "       [0.47871232],\n",
       "       [0.47871232],\n",
       "       [0.47871232],\n",
       "       [0.47871232],\n",
       "       [0.47871232],\n",
       "       [0.47254738],\n",
       "       [0.47871232],\n",
       "       [0.47341934],\n",
       "       [0.47871232],\n",
       "       [0.47871232],\n",
       "       [0.47871232],\n",
       "       [0.47871232],\n",
       "       [0.4787649 ],\n",
       "       [0.47871232],\n",
       "       [0.47871232],\n",
       "       [0.47871232],\n",
       "       [0.47871232],\n",
       "       [0.4787126 ],\n",
       "       [0.4787124 ],\n",
       "       [0.47871372],\n",
       "       [0.47871232],\n",
       "       [0.47871232],\n",
       "       [0.4791255 ],\n",
       "       [0.47871232],\n",
       "       [0.47871232],\n",
       "       [0.47871232],\n",
       "       [0.47871232],\n",
       "       [0.47874516],\n",
       "       [0.47871232],\n",
       "       [0.47871232],\n",
       "       [0.36488873],\n",
       "       [0.47871232],\n",
       "       [0.47874752],\n",
       "       [0.4786733 ],\n",
       "       [0.47871232],\n",
       "       [0.47871232]], dtype=float32)"
      ]
     },
     "execution_count": 134,
     "metadata": {},
     "output_type": "execute_result"
    }
   ],
   "source": [
    "model.predict(x_test)"
   ]
  },
  {
   "cell_type": "code",
   "execution_count": null,
   "metadata": {},
   "outputs": [],
   "source": []
  }
 ],
 "metadata": {
  "kernelspec": {
   "display_name": "Python [conda env:py36]",
   "language": "python",
   "name": "conda-env-py36-py"
  },
  "language_info": {
   "codemirror_mode": {
    "name": "ipython",
    "version": 3
   },
   "file_extension": ".py",
   "mimetype": "text/x-python",
   "name": "python",
   "nbconvert_exporter": "python",
   "pygments_lexer": "ipython3",
   "version": "3.6.6"
  }
 },
 "nbformat": 4,
 "nbformat_minor": 2
}
