{
 "cells": [
  {
   "cell_type": "markdown",
   "metadata": {
    "deletable": true,
    "editable": true
   },
   "source": [
    "# FeedForward Tutorial\n",
    "---\n",
    "A feedforward neural network is an artificial neural network wherein connections between the nodes do not form a cycle. As such, it is different from recurrent neural networks. It is illustrated in the following figure\n",
    "![title](img/feed_forward.png)\n",
    "\n",
    "The feedforward neural network was the first and simplest type of artificial neural network devised. In this network, the information moves in only one direction, forward, from the input nodes, through the hidden nodes (if any) and activation funtion to the output nodes. There are no cycles or loops in the network.\n",
    "\n",
    "![title](img/single.png)\n",
    "The simplest kind of neural network is a single-layer perceptron network, which consists of a single layer of output nodes; the inputs are fed directly to the outputs via a series of weights. In this way it can be considered the simplest kind of feed-forward network. The sum of the products of the weights and the inputs is calculated in each node, and if the value is above some threshold (typically 0) the neuron fires and takes the activated value (typically 1); otherwise it takes the deactivated value (typically -1). \n",
    "\n",
    "### What is Activation Function ?\n",
    "You could have a question about activation function. It’s just a thing (node) that you add to the output end of any neural network. It is also known as **Transfer Function**. It can also be attached in between two Neural Networks.It is used to determine the output of neural network like yes or no. It maps the resulting values in between 0 to 1 (sigmoid) whatever the inputs are.\n",
    "![title](img/sigmoid.png)\n",
    "\n",
    "### Single-layer perceptron network : \n",
    "It can only solve linear problems such as AND problem and OR problem (see the following figure)\n",
    "![title](img/linear.png)\n",
    "\n",
    "However, it cannot solve XOR problem due to it is a non-linear problem. We could not use a single line to split it to two parts.(see the following figure)\n",
    "![title](img/nonlinear.png)\n",
    "If we use two and more layers of neural network, it colud solve the problem with two decision boundaries like the following figure.**Each \"Decision Boundary\" line represents one layer** in our MLP.\n",
    "![title](img/two-layer.png)\n",
    "\n"
   ]
  },
  {
   "cell_type": "markdown",
   "metadata": {
    "deletable": true,
    "editable": true
   },
   "source": [
    "## Plan to code a feedforward Pass\n",
    "---\n",
    "How can we do the forward pass by code ? We take a look the following figure : \n",
    "<img src=\"img/feedforward.png\" alt=\"drawing\" width=\"500px\"/>\n",
    "\n",
    "If our input $X=\\{x_0,x_1,...,x_n\\}$,each output value $o_j$ can be calculate by :\n",
    "\n",
    "### $o_j = \\sigma[{\\sum^{n}_{i=0}{W_{ij}x_{j}+b_{j}}}]$\n",
    "where $W\\in R^{ i x j}$, $b\\in R^{ j}$ and $\\sigma$ is activation function. The formula can be implement by ** two multiplied matrices ** and ** plus a bias vector ** like this:\n",
    "![title](img/mutipled_matrix.png)\n"
   ]
  },
  {
   "cell_type": "markdown",
   "metadata": {
    "collapsed": false,
    "deletable": true,
    "editable": true
   },
   "source": [
    "## Start to code a feedforward pass\n",
    "---\n",
    "### First we need to import packages and defined some variable for later work\n",
    "* numpy\n",
    "\n",
    "### We need the variables in the following list :\n",
    "* weights \n",
    "* bias\n",
    "* number of layers\n",
    "* update_weight (backward)\n",
    "* update_bias (backward)\n"
   ]
  },
  {
   "cell_type": "code",
   "execution_count": 1,
   "metadata": {
    "collapsed": true,
    "deletable": true,
    "editable": true
   },
   "outputs": [],
   "source": [
    "import numpy as np \n",
    "import matplotlib.pyplot as plt\n",
    "np.random.seed(1)  # Seed the random number generator, we can reproduce our results deterministically\n",
    "weights = {}  # weights\n",
    "biases = {} # bias\n",
    "num_layers = 1  # Set initial number of layer to one (input layer)\n",
    "adjustments_w = {}  # adjustements\n",
    "adjustments_b = {}  # adjustements"
   ]
  },
  {
   "cell_type": "code",
   "execution_count": 2,
   "metadata": {
    "collapsed": true,
    "deletable": true,
    "editable": true
   },
   "outputs": [],
   "source": [
    "def init():\n",
    "    global num_layers\n",
    "    global weights\n",
    "    global biases\n",
    "    global adjustments_w\n",
    "    global adjustments_b\n",
    "    weights = {}  # weights\n",
    "    biases = {} # bias\n",
    "    num_layers = 1  # Set initial number of layer to one (input layer)\n",
    "    adjustments_w = {}  # adjustements\n",
    "    adjustments_b = {}  # adjustements"
   ]
  },
  {
   "cell_type": "markdown",
   "metadata": {
    "deletable": true,
    "editable": true
   },
   "source": [
    "## Define a add_layer function that can add layer in the network\n",
    "---\n",
    "#### When a layer was build, we must initial layer's variables:\n",
    "* weights $W_{m \\times n}$: random value in range [-1,1] \n",
    "* bias $b_{n}$ : random value in range [-1,1]  \n",
    "* update_weight $\\Delta W_{m \\times n}$: 0 \n",
    "* update_bias $\\Delta b_{n}$ : 0 \n",
    "\n",
    "#### Then, you should add the number of layers to record how many layers we have."
   ]
  },
  {
   "cell_type": "code",
   "execution_count": 3,
   "metadata": {
    "collapsed": false,
    "deletable": true,
    "editable": true
   },
   "outputs": [],
   "source": [
    "def add_layer(shape):\n",
    "    global num_layers\n",
    "    global weights\n",
    "    global biases\n",
    "    global adjustments_w\n",
    "    global adjustments_b\n",
    "    \n",
    "    # inital weights in range(-1,1) \n",
    "    weights[num_layers] = 2 * np.random.random(shape) - 1\n",
    "    # inital bias in range(-1,1)\n",
    "    biases[num_layers] = 2 * np.random.random((1,shape[1])) - 1\n",
    "    # inital adjustements i\n",
    "    adjustments_w[num_layers] = np.zeros(shape)\n",
    "    adjustments_b[num_layers] = np.zeros((1,shape[1]))\n",
    "    # plus num_layer \n",
    "    num_layers += 1"
   ]
  },
  {
   "cell_type": "markdown",
   "metadata": {
    "deletable": true,
    "editable": true
   },
   "source": [
    "## Define activation functions \n",
    "---\n",
    "### In the feedforward neural network, we should use two activation function:\n",
    "* sigmoid : It is used to calculate the value in feedfoward.\n",
    "    \n",
    "### $ \\sigma(x) = \\frac{1}{1 + e^{-x}} $\n",
    "    \n"
   ]
  },
  {
   "cell_type": "code",
   "execution_count": 4,
   "metadata": {
    "collapsed": true,
    "deletable": true,
    "editable": true
   },
   "outputs": [],
   "source": [
    "# sigmoid\n",
    "def sigmoid(x):\n",
    "    return 1 / (1 + np.exp(-x))"
   ]
  },
  {
   "cell_type": "markdown",
   "metadata": {
    "deletable": true,
    "editable": true
   },
   "source": [
    "## Define forward_propagate function\n",
    "---\n",
    "In this function, we need to caculate each layer output. According to the plan we have mentioned above, the outputs are got by ** mutlipling a vector of inputs and a matrix of weights**, then **plus a bias vector**. Final, we use **activation function (sigmoid)** to map the outputs into the range[0,1]. Ater that, we will finish the step of forward pass. "
   ]
  },
  {
   "cell_type": "code",
   "execution_count": 5,
   "metadata": {
    "collapsed": true,
    "deletable": true,
    "editable": true
   },
   "outputs": [],
   "source": [
    "def forward_propagate(data):       \n",
    "    global num_layers\n",
    "    global weights\n",
    "    global biases\n",
    "    # Progapagate through network and hold values for use in back-propagation\n",
    "    activation_values = {}\n",
    "    activation_values[1] = data\n",
    "\n",
    "    for layer in range(2,num_layers+1):\n",
    "        # y = data.T (batch_size, input_size) * weight(input_size, output_size) + bias(output_size)    \n",
    "        data = np.dot(data.T, weights[layer-1])+ biases[layer-1]\n",
    "        # a = f(y)\n",
    "        data = sigmoid(data).T\n",
    "        activation_values[layer] = data\n",
    "        \n",
    "    return activation_values"
   ]
  },
  {
   "cell_type": "markdown",
   "metadata": {},
   "source": [
    "## Plan to code a backward Pass\n",
    "---\n",
    "How did we set our weights in forward pass ? We must define a **loss function** to decide what weights can decrease difference of outputs and label. To find the minimum value of loss by given weights, we must use **gradient descent** algorithm to optimize. **Gradient descent** is an optimization algorithm used to minimize some function by iteratively moving in the direction of steepest descent as defined by the negative of the gradient. In machine learning, we use gradient descent to update the parameters of our model. Parameters refer to coefficients in Linear Regression and weights in neural networks.\n",
    "\n",
    "\n",
    "To caculate each layer's update_weight and update_bias, we must partial differentiate the loss function with our parameters.You can watch [the video](https://www.youtube.com/watch?v=ibJpTrp5mcE) which introduces how can we optimize our parameters from loss function by backward pass. The following equactions show how can we get **update_weights** and **update_bias** by **chain rule**. \n",
    "\n",
    "update_weight $\\Delta w $ = $\\frac{\\partial L}{\\partial w} $= $\\frac{\\partial L}{\\partial {y}}\\frac{\\partial {y}}{\\partial w} $\n",
    "\n",
    "update_bias $\\Delta b $ = $\\frac{\\partial L}{\\partial b} $= $\\frac{\\partial L}{\\partial {y}}\\frac{\\partial {y}}{\\partial b} $\n",
    "\n",
    "#### weight\n",
    "$\\frac{\\partial y}{\\partial w} =\\frac{\\partial (Wx + b)}{\\partial y}$  =  $x$\n",
    "\n",
    "#### bias ( just different with weight in this part )\n",
    "$\\frac{\\partial b}{\\partial w} =\\frac{\\partial (Wx + b)}{\\partial b}$ =  $1$ \n",
    "\n",
    "---\n",
    "$\\frac{\\partial L}{\\partial y} =\\frac{\\partial a}{\\partial y} \\frac{\\partial L}{\\partial a} $\n",
    "\n",
    "$\\frac{\\partial a}{\\partial y} =\\frac{\\partial \\sigma(y)}{\\partial y} = $   $\\sigma^{'}(y)$\n",
    "\n",
    "\n",
    "\n",
    "\n",
    "#### if layer is output layer :\n",
    "\n",
    "$\\frac{\\partial L}{\\partial y} = \\sigma^{'}(y) \\frac{\\partial L}{\\partial a} = \\sigma^{'}(y) \\frac{\\partial (y \\log(a) + (1-y)\\log(1-a))}{\\partial a} =  \\sigma^{'}(y) \\times (a-y)$\n",
    "\n",
    "\n",
    "#### if layer is hidden layer :\n",
    "\n",
    "$\\frac{\\partial L}{\\partial y} = \\sigma^{'}(y) \\frac{\\partial L}{\\partial a} $ \n",
    "\n",
    "\n",
    "$\\frac{\\partial L}{\\partial a} = \\frac{\\partial y_{n+1}}{\\partial a}\\frac{\\partial L}{\\partial y_{n+1}} = w \\times \\frac{\\partial L}{\\partial y_{n+1}} $\n",
    "\n",
    "($\\frac{\\partial L}{\\partial y_{n+1}}$has been computed at last iteration )\n",
    "\n",
    "## Start to code a backward pass\n",
    "---\n",
    "## Define loss function\n",
    "For our XOR problem,a classification task, we consider the inputs and decide its output is **\"True\"** or **False**. Therefore, we take cross entropy as our loss function. The loss function is defined by :\n",
    "\n",
    "<img src=\"img/loss.png\" alt=\"drawing\" width=\"300px\"/>"
   ]
  },
  {
   "cell_type": "code",
   "execution_count": 6,
   "metadata": {
    "collapsed": true
   },
   "outputs": [],
   "source": [
    "def loss_func(outputs, targets):\n",
    "    # cross_entropy \n",
    "    return np.mean(-np.sum(targets * np.log(outputs) + (1- targets) * np.log(1-outputs), axis=1))"
   ]
  },
  {
   "cell_type": "markdown",
   "metadata": {},
   "source": [
    "## Define the derivative of sigmoid function\n",
    "---\n",
    "It is used to calculate the gradient in backward pass.\n",
    "$ \\frac{d\\sigma(x)}{d(x)}$</span> = $\\sigma(x) \\times (1-\\sigma(x)) $"
   ]
  },
  {
   "cell_type": "code",
   "execution_count": 7,
   "metadata": {
    "collapsed": true
   },
   "outputs": [],
   "source": [
    "# derivative of sigmoid  \n",
    "def sigmoid_derivative(x):\n",
    "    return x * (1 - x)"
   ]
  },
  {
   "cell_type": "markdown",
   "metadata": {
    "deletable": true,
    "editable": true
   },
   "source": [
    "## Define back_propagate function"
   ]
  },
  {
   "cell_type": "code",
   "execution_count": 8,
   "metadata": {
    "collapsed": true,
    "deletable": true,
    "editable": true
   },
   "outputs": [],
   "source": [
    "def back_propagate(outputs, targets):\n",
    "    global num_layers\n",
    "    global weights\n",
    "    global biases\n",
    "    global adjustments_w\n",
    "    global adjustments_b\n",
    "    \n",
    "    deltas = {}\n",
    "\n",
    "    # Delta of output Layer ( cross_entropy derivative is (output-target))\n",
    "    # L/y = sigmoid_derivative * (loss_func_derivative)\n",
    "    deltas[num_layers] = sigmoid_derivative(outputs[num_layers])*(outputs[num_layers] - targets)\n",
    "   \n",
    "    # Delta of hidden Layers\n",
    "    # L/y = sigmoid_derivative * (weight * last L/y)  \n",
    "    for layer in reversed(range(2, num_layers)):  # All layers except input/output\n",
    "        a_val = outputs[layer]\n",
    "        weight = weights[layer]\n",
    "        bias = biases[layer]\n",
    "        prev_deltas = deltas[layer+1]\n",
    "\n",
    "        deltas[layer] = np.multiply(np.dot(weight, prev_deltas), sigmoid_derivative(a_val))\n",
    " \n",
    "\n",
    "    # Caclculate total adjustements based on deltas\n",
    "    # update_weight = L/y * x\n",
    "    # update_bais = L/y * 1\n",
    "    for layer in range(1, num_layers):\n",
    "        adjustments_w[layer] += np.dot(deltas[layer+1],outputs[layer].T).T\n",
    "        adjustments_b[layer] += np.dot(deltas[layer+1],1).T\n"
   ]
  },
  {
   "cell_type": "markdown",
   "metadata": {
    "deletable": true,
    "editable": true
   },
   "source": [
    "## Define gradient_descent function\n",
    "---\n",
    "$ w_{new} = w - \\eta \\Delta{w} $ \n",
    "\n",
    "\n",
    "$ b_{new} = b - \\eta \\Delta{b} $ "
   ]
  },
  {
   "cell_type": "code",
   "execution_count": 9,
   "metadata": {
    "collapsed": true,
    "deletable": true,
    "editable": true
   },
   "outputs": [],
   "source": [
    "def gradient_descent(batch_size, learning_rate):\n",
    "    global num_layers\n",
    "    global weights\n",
    "    global biases\n",
    "    global adjustments_w\n",
    "    global adjustments_b\n",
    "    \n",
    "    # Calculate partial derivative and take a step in that direction\n",
    "    for layer in range(1, num_layers):\n",
    "\n",
    "        partial_w = (1/batch_size) * adjustments_w[layer]\n",
    "        partial_b = (1/batch_size) * adjustments_b[layer]\n",
    "\n",
    "\n",
    "        weights[layer] += learning_rate * -partial_w\n",
    "        biases[layer] += learning_rate * -partial_b"
   ]
  },
  {
   "cell_type": "markdown",
   "metadata": {
    "deletable": true,
    "editable": true
   },
   "source": [
    "## Define train function\n",
    "---\n",
    "#### Order of train :\n",
    "    1. forward_prop\n",
    "    2. caculate loss\n",
    "    3. back_prop\n",
    "    4. gradient_descent\n",
    "    \n",
    "    "
   ]
  },
  {
   "cell_type": "code",
   "execution_count": 10,
   "metadata": {
    "collapsed": true,
    "deletable": true,
    "editable": true
   },
   "outputs": [],
   "source": [
    "def train(inputs, targets, num_epochs, learning_rate=0.01, stop_loss=1e-5):\n",
    "    global num_layers\n",
    "    error = []\n",
    "\n",
    "    for iteration in range(num_epochs):\n",
    "        loss = 0\n",
    "        for i in range(len(inputs)):\n",
    "            x = inputs[i]\n",
    "            y = targets[i]\n",
    "            \n",
    "            # Pass the training set through our neural network\n",
    "            output = forward_propagate(x)\n",
    "\n",
    "            # Calculate the error\n",
    "            loss += loss_func(output[num_layers], y)\n",
    "            \n",
    "            # Calculate Adjustements\n",
    "            back_propagate(output, y)\n",
    "\n",
    "        gradient_descent(i, learning_rate)\n",
    "        error.append(loss/len(inputs))\n",
    "        # Check if loss criterion is satisfied\n",
    "        if np.mean(error[-(i+1):]) < stop_loss and iteration > 0:\n",
    "            break\n",
    "\n",
    "    #show the loss curve\n",
    "    plt.plot(range(len(error)), error)\n",
    "    plt.show()\n",
    "\n",
    "    return(np.asarray(error), iteration+1)"
   ]
  },
  {
   "cell_type": "markdown",
   "metadata": {
    "collapsed": true,
    "deletable": true,
    "editable": true
   },
   "source": [
    "## Define predict function\n",
    "---\n",
    "We must have a function to map value to True and False"
   ]
  },
  {
   "cell_type": "code",
   "execution_count": 11,
   "metadata": {
    "collapsed": true,
    "deletable": true,
    "editable": true
   },
   "outputs": [],
   "source": [
    "def predict(data):\n",
    "    global num_layers\n",
    "    global weights\n",
    "    global biases\n",
    "\n",
    "    # pass data through pre-trained network\n",
    "    for layer in range(1,num_layers):\n",
    "        # h = data (batch_size, input_size) * weight(input_size, output_size) + bias(output_size) \n",
    "        data = np.dot(data, weights[layer]) + biases[layer]\n",
    "        # a = f(h)\n",
    "        data = sigmoid(data)\n",
    "        \n",
    "    data = data > 0.5\n",
    "    return data"
   ]
  },
  {
   "cell_type": "markdown",
   "metadata": {
    "collapsed": false,
    "deletable": true,
    "editable": true
   },
   "source": [
    "## AND Dataset\n",
    "---\n",
    "Our first dataset is AND problem. The AND gate have to let all inputs are true and its output will be true. The following figure is AND truth table\n",
    "![title](img/AND_truth_table.png)"
   ]
  },
  {
   "cell_type": "code",
   "execution_count": 12,
   "metadata": {
    "collapsed": false,
    "deletable": true,
    "editable": true
   },
   "outputs": [
    {
     "data": {
      "image/png": "[encoded data removed]",
      "text/plain": [
       "<matplotlib.figure.Figure at 0x7f771b7a7320>"
      ]
     },
     "metadata": {},
     "output_type": "display_data"
    },
    {
     "name": "stdout",
     "output_type": "stream",
     "text": [
      "Error =  3.32089277585e-05\n",
      "Epoches needed to train =  1000\n",
      "data [0 0], value [False]\n",
      "data [0 1], value [False]\n",
      "data [1 0], value [False]\n",
      "data [1 1], value [ True]\n"
     ]
    }
   ],
   "source": [
    "# Add Layers (Input layer is created by default)\n",
    "init()\n",
    "add_layer((2, 1))\n",
    "\n",
    "# AND function\n",
    "training_data = np.asarray([[0, 0], [0, 1], [1, 0], [1, 1]]).reshape(4, 2, 1)\n",
    "training_labels = np.asarray([[0], [0], [0], [1]])\n",
    "\n",
    "error, iteration = train(training_data, training_labels, 1000)\n",
    "print('Error = ', np.mean(error[-4:]))\n",
    "print('Epoches needed to train = ', iteration)\n",
    "\n",
    "training_data = np.asarray([[0, 0], [0, 1], [1, 0], [1, 1]]).reshape(4, 2)\n",
    "label = predict(training_data)\n",
    "\n",
    "for i in range(4):\n",
    "    print(\"data {}, value {}\".format(training_data[i],label[i]))\n"
   ]
  },
  {
   "cell_type": "markdown",
   "metadata": {
    "deletable": true,
    "editable": true
   },
   "source": [
    "## XOR Dataset\n",
    "---\n",
    "Our second dataset is XOR problem. The XOR gate is a digital logic gate that gives a true (1 or HIGH) output when the number of true inputs is odd.\n",
    "![title](img/XOR_truth_table.png)"
   ]
  },
  {
   "cell_type": "code",
   "execution_count": 13,
   "metadata": {
    "collapsed": false,
    "deletable": true,
    "editable": true
   },
   "outputs": [
    {
     "data": {
      "image/png": "[encoded data removed]",
      "text/plain": [
       "<matplotlib.figure.Figure at 0x7f771b79d240>"
      ]
     },
     "metadata": {},
     "output_type": "display_data"
    },
    {
     "name": "stdout",
     "output_type": "stream",
     "text": [
      "Error =  2.74960197114\n",
      "Epoches needed to train =  1000\n",
      "data [0 0], value [False]\n",
      "data [0 1], value [ True]\n",
      "data [1 0], value [ True]\n",
      "data [1 1], value [ True]\n"
     ]
    }
   ],
   "source": [
    "# Add Layers (Input layer is created by default)\n",
    "init()\n",
    "add_layer((2, 1))\n",
    "\n",
    "# XOR function\n",
    "training_data = np.asarray([[0, 0], [0, 1], [1, 0], [1, 1]]).reshape(4, 2, 1)\n",
    "training_labels = np.asarray([[0], [1], [1], [0]])\n",
    "\n",
    "error, iteration = train(training_data, training_labels, 1000)\n",
    "print('Error = ', np.mean(error[-4:]))\n",
    "print('Epoches needed to train = ', iteration)\n",
    "\n",
    "training_data = np.asarray([[0, 0], [0, 1], [1, 0], [1, 1]]).reshape(4, 2)\n",
    "label = predict(training_data)\n",
    "\n",
    "for i in range(4):\n",
    "    print(\"data {}, value {}\".format(training_data[i],label[i]))\n"
   ]
  },
  {
   "cell_type": "markdown",
   "metadata": {
    "collapsed": false,
    "deletable": true,
    "editable": true
   },
   "source": [
    "We can't predict correct value in XOR problem in single layer because XOR is non-linear problem. Therefore, we add one more layer to enhance our network. "
   ]
  },
  {
   "cell_type": "code",
   "execution_count": 14,
   "metadata": {
    "collapsed": false,
    "deletable": true,
    "editable": true
   },
   "outputs": [
    {
     "data": {
      "image/png": "[encoded data removed]",
      "text/plain": [
       "<matplotlib.figure.Figure at 0x7f771b79d898>"
      ]
     },
     "metadata": {},
     "output_type": "display_data"
    },
    {
     "name": "stdout",
     "output_type": "stream",
     "text": [
      "Error =  0.0512476351996\n",
      "Epoches needed to train =  1000\n",
      "data [0 0], value [False]\n",
      "data [0 1], value [ True]\n",
      "data [1 0], value [ True]\n",
      "data [1 1], value [False]\n"
     ]
    }
   ],
   "source": [
    "# Add Layers (Input layer is created by default)\n",
    "init()\n",
    "add_layer((2, 4))\n",
    "add_layer((4, 1))\n",
    "\n",
    "# XOR function\n",
    "training_data = np.asarray([[0, 0], [0, 1], [1, 0], [1, 1]]).reshape(4, 2, 1)\n",
    "training_labels = np.asarray([[0], [1], [1], [0]])\n",
    "\n",
    "error, iteration = train(training_data, training_labels, 1000)\n",
    "print('Error = ', np.mean(error[-4:]))\n",
    "print('Epoches needed to train = ', iteration)\n",
    "\n",
    "training_data = np.asarray([[0, 0], [0, 1], [1, 0], [1, 1]]).reshape(4, 2)\n",
    "label = predict(training_data)\n",
    "\n",
    "for i in range(4):\n",
    "    print(\"data {}, value {}\".format(training_data[i],label[i]))"
   ]
  },
  {
   "cell_type": "markdown",
   "metadata": {
    "deletable": true,
    "editable": true
   },
   "source": [
    "## Reference \n",
    "---\n",
    "Feedforward in Wiki : https://en.wikipedia.org/wiki/Feedforward\n",
    "<br>\n",
    "CS231n : http://cs231n.github.io/optimization-2/\n",
    "<br>\n",
    "Feedforward Neural Networks in BRILLIANT :https://brilliant.org/wiki/feedforward-neural-networks/\n",
    "<br>\n",
    "李宏毅 backpropgation 教學視頻 : https://www.youtube.com/watch?v=ibJpTrp5mcE"
   ]
  },
  {
   "cell_type": "code",
   "execution_count": null,
   "metadata": {
    "collapsed": true,
    "deletable": true,
    "editable": true
   },
   "outputs": [],
   "source": []
  }
 ],
 "metadata": {
  "kernelspec": {
   "display_name": "Python 3",
   "language": "python",
   "name": "python3"
  },
  "language_info": {
   "codemirror_mode": {
    "name": "ipython",
    "version": 3
   },
   "file_extension": ".py",
   "mimetype": "text/x-python",
   "name": "python",
   "nbconvert_exporter": "python",
   "pygments_lexer": "ipython3",
   "version": "3.5.2"
  }
 },
 "nbformat": 4,
 "nbformat_minor": 2
}
